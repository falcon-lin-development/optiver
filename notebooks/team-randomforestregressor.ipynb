{
 "cells": [
  {
   "cell_type": "markdown",
   "id": "db3d8987",
   "metadata": {
    "papermill": {
     "duration": 0.004887,
     "end_time": "2023-10-13T02:34:44.792263",
     "exception": false,
     "start_time": "2023-10-13T02:34:44.787376",
     "status": "completed"
    },
    "tags": []
   },
   "source": [
    "# Section 1: Imports"
   ]
  },
  {
   "cell_type": "code",
   "execution_count": 6,
   "id": "3f16c000",
   "metadata": {
    "papermill": {
     "duration": 8.129771,
     "end_time": "2023-10-13T02:34:52.927136",
     "exception": false,
     "start_time": "2023-10-13T02:34:44.797365",
     "status": "completed"
    },
    "tags": []
   },
   "outputs": [
    {
     "name": "stdout",
     "output_type": "stream",
     "text": [
      "This is running outside Kaggle!\n"
     ]
    }
   ],
   "source": [
    "# basics\n",
    "import pandas as pd\n",
    "import numpy as np\n",
    "\n",
    "# models\n",
    "from sklearn.model_selection import train_test_split\n",
    "from sklearn.ensemble import RandomForestRegressor\n",
    "import lightgbm as lgb\n",
    "\n",
    "# system\n",
    "import gc\n",
    "import os\n",
    "\n",
    "import warnings\n",
    "warnings.filterwarnings(\"ignore\")\n",
    "from warnings import simplefilter\n",
    "simplefilter(action=\"ignore\", category=pd.errors.PerformanceWarning)\n",
    "\n",
    "\n",
    "def is_kaggle_env():\n",
    "    return 'KAGGLE_KERNEL_RUN_TYPE' in os.environ\n",
    "\n",
    "if is_kaggle_env():\n",
    "    print(\"This is running inside Kaggle!\")\n",
    "else:\n",
    "    print(\"This is running outside Kaggle!\")\n"
   ]
  },
  {
   "cell_type": "markdown",
   "id": "befd9c79",
   "metadata": {
    "papermill": {
     "duration": 0.004187,
     "end_time": "2023-10-13T02:34:52.935926",
     "exception": false,
     "start_time": "2023-10-13T02:34:52.931739",
     "status": "completed"
    },
    "tags": []
   },
   "source": [
    "# Section 2: Data Preprocessing"
   ]
  },
  {
   "cell_type": "code",
   "execution_count": 29,
   "id": "023bd760",
   "metadata": {
    "papermill": {
     "duration": 17.045989,
     "end_time": "2023-10-13T02:35:09.986055",
     "exception": false,
     "start_time": "2023-10-13T02:34:52.940066",
     "status": "completed"
    },
    "tags": []
   },
   "outputs": [],
   "source": [
    "if not is_kaggle_env():\n",
    "    DATA_DIR = \"../data/\"\n",
    "else:\n",
    "    DATA_DIR = \"/kaggle/input/optiver-trading-at-the-close/\"\n",
    "    \n",
    "train = pd.read_csv(DATA_DIR + 'train.csv')\n",
    "# revealed_targets = pd.read_csv(DATA_DIR / 'example_test_files/revealed_targets.csv')\n",
    "test = pd.read_csv(DATA_DIR + 'example_test_files/test.csv')\n",
    "# sample_submission = pd.read_csv(DATA_DIR / 'example_test_files/sample_submission.csv')"
   ]
  },
  {
   "cell_type": "code",
   "execution_count": 30,
   "id": "e9c720f0",
   "metadata": {
    "papermill": {
     "duration": 0.028241,
     "end_time": "2023-10-13T02:35:10.025488",
     "exception": false,
     "start_time": "2023-10-13T02:35:09.997247",
     "status": "completed"
    },
    "tags": []
   },
   "outputs": [
    {
     "data": {
      "text/plain": [
       "Index(['stock_id', 'date_id', 'seconds_in_bucket', 'imbalance_size',\n",
       "       'imbalance_buy_sell_flag', 'reference_price', 'matched_size',\n",
       "       'far_price', 'near_price', 'bid_price', 'bid_size', 'ask_price',\n",
       "       'ask_size', 'wap', 'target', 'time_id', 'row_id'],\n",
       "      dtype='object')"
      ]
     },
     "execution_count": 30,
     "metadata": {},
     "output_type": "execute_result"
    }
   ],
   "source": [
    "train.columns"
   ]
  },
  {
   "cell_type": "code",
   "execution_count": 31,
   "id": "4e2b05b2",
   "metadata": {
    "papermill": {
     "duration": 0.030077,
     "end_time": "2023-10-13T02:35:10.071747",
     "exception": false,
     "start_time": "2023-10-13T02:35:10.041670",
     "status": "completed"
    },
    "tags": []
   },
   "outputs": [
    {
     "data": {
      "text/plain": [
       "(5237980, 17)"
      ]
     },
     "execution_count": 31,
     "metadata": {},
     "output_type": "execute_result"
    }
   ],
   "source": [
    "train.shape"
   ]
  },
  {
   "cell_type": "code",
   "execution_count": 32,
   "id": "4a75c5bf",
   "metadata": {
    "papermill": {
     "duration": 0.057206,
     "end_time": "2023-10-13T02:35:10.138613",
     "exception": false,
     "start_time": "2023-10-13T02:35:10.081407",
     "status": "completed"
    },
    "tags": []
   },
   "outputs": [
    {
     "data": {
      "text/html": [
       "<div>\n",
       "<style scoped>\n",
       "    .dataframe tbody tr th:only-of-type {\n",
       "        vertical-align: middle;\n",
       "    }\n",
       "\n",
       "    .dataframe tbody tr th {\n",
       "        vertical-align: top;\n",
       "    }\n",
       "\n",
       "    .dataframe thead th {\n",
       "        text-align: right;\n",
       "    }\n",
       "</style>\n",
       "<table border=\"1\" class=\"dataframe\">\n",
       "  <thead>\n",
       "    <tr style=\"text-align: right;\">\n",
       "      <th></th>\n",
       "      <th>stock_id</th>\n",
       "      <th>date_id</th>\n",
       "      <th>seconds_in_bucket</th>\n",
       "      <th>imbalance_size</th>\n",
       "      <th>imbalance_buy_sell_flag</th>\n",
       "      <th>reference_price</th>\n",
       "      <th>matched_size</th>\n",
       "      <th>far_price</th>\n",
       "      <th>near_price</th>\n",
       "      <th>bid_price</th>\n",
       "      <th>bid_size</th>\n",
       "      <th>ask_price</th>\n",
       "      <th>ask_size</th>\n",
       "      <th>wap</th>\n",
       "      <th>target</th>\n",
       "      <th>time_id</th>\n",
       "      <th>row_id</th>\n",
       "    </tr>\n",
       "  </thead>\n",
       "  <tbody>\n",
       "    <tr>\n",
       "      <th>0</th>\n",
       "      <td>0</td>\n",
       "      <td>0</td>\n",
       "      <td>0</td>\n",
       "      <td>3180602.69</td>\n",
       "      <td>1</td>\n",
       "      <td>0.999812</td>\n",
       "      <td>13380276.64</td>\n",
       "      <td>NaN</td>\n",
       "      <td>NaN</td>\n",
       "      <td>0.999812</td>\n",
       "      <td>60651.50</td>\n",
       "      <td>1.000026</td>\n",
       "      <td>8493.03</td>\n",
       "      <td>1.0</td>\n",
       "      <td>-3.029704</td>\n",
       "      <td>0</td>\n",
       "      <td>0_0_0</td>\n",
       "    </tr>\n",
       "    <tr>\n",
       "      <th>1</th>\n",
       "      <td>1</td>\n",
       "      <td>0</td>\n",
       "      <td>0</td>\n",
       "      <td>166603.91</td>\n",
       "      <td>-1</td>\n",
       "      <td>0.999896</td>\n",
       "      <td>1642214.25</td>\n",
       "      <td>NaN</td>\n",
       "      <td>NaN</td>\n",
       "      <td>0.999896</td>\n",
       "      <td>3233.04</td>\n",
       "      <td>1.000660</td>\n",
       "      <td>20605.09</td>\n",
       "      <td>1.0</td>\n",
       "      <td>-5.519986</td>\n",
       "      <td>0</td>\n",
       "      <td>0_0_1</td>\n",
       "    </tr>\n",
       "    <tr>\n",
       "      <th>2</th>\n",
       "      <td>2</td>\n",
       "      <td>0</td>\n",
       "      <td>0</td>\n",
       "      <td>302879.87</td>\n",
       "      <td>-1</td>\n",
       "      <td>0.999561</td>\n",
       "      <td>1819368.03</td>\n",
       "      <td>NaN</td>\n",
       "      <td>NaN</td>\n",
       "      <td>0.999403</td>\n",
       "      <td>37956.00</td>\n",
       "      <td>1.000298</td>\n",
       "      <td>18995.00</td>\n",
       "      <td>1.0</td>\n",
       "      <td>-8.389950</td>\n",
       "      <td>0</td>\n",
       "      <td>0_0_2</td>\n",
       "    </tr>\n",
       "    <tr>\n",
       "      <th>3</th>\n",
       "      <td>3</td>\n",
       "      <td>0</td>\n",
       "      <td>0</td>\n",
       "      <td>11917682.27</td>\n",
       "      <td>-1</td>\n",
       "      <td>1.000171</td>\n",
       "      <td>18389745.62</td>\n",
       "      <td>NaN</td>\n",
       "      <td>NaN</td>\n",
       "      <td>0.999999</td>\n",
       "      <td>2324.90</td>\n",
       "      <td>1.000214</td>\n",
       "      <td>479032.40</td>\n",
       "      <td>1.0</td>\n",
       "      <td>-4.010200</td>\n",
       "      <td>0</td>\n",
       "      <td>0_0_3</td>\n",
       "    </tr>\n",
       "    <tr>\n",
       "      <th>4</th>\n",
       "      <td>4</td>\n",
       "      <td>0</td>\n",
       "      <td>0</td>\n",
       "      <td>447549.96</td>\n",
       "      <td>-1</td>\n",
       "      <td>0.999532</td>\n",
       "      <td>17860614.95</td>\n",
       "      <td>NaN</td>\n",
       "      <td>NaN</td>\n",
       "      <td>0.999394</td>\n",
       "      <td>16485.54</td>\n",
       "      <td>1.000016</td>\n",
       "      <td>434.10</td>\n",
       "      <td>1.0</td>\n",
       "      <td>-7.349849</td>\n",
       "      <td>0</td>\n",
       "      <td>0_0_4</td>\n",
       "    </tr>\n",
       "  </tbody>\n",
       "</table>\n",
       "</div>"
      ],
      "text/plain": [
       "   stock_id  date_id  seconds_in_bucket  imbalance_size  \\\n",
       "0         0        0                  0      3180602.69   \n",
       "1         1        0                  0       166603.91   \n",
       "2         2        0                  0       302879.87   \n",
       "3         3        0                  0     11917682.27   \n",
       "4         4        0                  0       447549.96   \n",
       "\n",
       "   imbalance_buy_sell_flag  reference_price  matched_size  far_price  \\\n",
       "0                        1         0.999812   13380276.64        NaN   \n",
       "1                       -1         0.999896    1642214.25        NaN   \n",
       "2                       -1         0.999561    1819368.03        NaN   \n",
       "3                       -1         1.000171   18389745.62        NaN   \n",
       "4                       -1         0.999532   17860614.95        NaN   \n",
       "\n",
       "   near_price  bid_price  bid_size  ask_price   ask_size  wap    target  \\\n",
       "0         NaN   0.999812  60651.50   1.000026    8493.03  1.0 -3.029704   \n",
       "1         NaN   0.999896   3233.04   1.000660   20605.09  1.0 -5.519986   \n",
       "2         NaN   0.999403  37956.00   1.000298   18995.00  1.0 -8.389950   \n",
       "3         NaN   0.999999   2324.90   1.000214  479032.40  1.0 -4.010200   \n",
       "4         NaN   0.999394  16485.54   1.000016     434.10  1.0 -7.349849   \n",
       "\n",
       "   time_id row_id  \n",
       "0        0  0_0_0  \n",
       "1        0  0_0_1  \n",
       "2        0  0_0_2  \n",
       "3        0  0_0_3  \n",
       "4        0  0_0_4  "
      ]
     },
     "execution_count": 32,
     "metadata": {},
     "output_type": "execute_result"
    }
   ],
   "source": [
    "train.head(5)"
   ]
  },
  {
   "cell_type": "code",
   "execution_count": 33,
   "id": "6564fc39",
   "metadata": {
    "papermill": {
     "duration": 0.734786,
     "end_time": "2023-10-13T02:35:10.884927",
     "exception": false,
     "start_time": "2023-10-13T02:35:10.150141",
     "status": "completed"
    },
    "tags": []
   },
   "outputs": [
    {
     "data": {
      "text/plain": [
       "(5237980, 17)"
      ]
     },
     "execution_count": 33,
     "metadata": {},
     "output_type": "execute_result"
    }
   ],
   "source": [
    "train = train.fillna(1) # simply drop nan values\n",
    "train.shape"
   ]
  },
  {
   "cell_type": "markdown",
   "id": "7bafccca",
   "metadata": {
    "papermill": {
     "duration": 0.00847,
     "end_time": "2023-10-13T02:35:10.903209",
     "exception": false,
     "start_time": "2023-10-13T02:35:10.894739",
     "status": "completed"
    },
    "tags": []
   },
   "source": [
    "## Section 2A: Feature Engineering\n",
    "> TODO: Feature Engin.\n"
   ]
  },
  {
   "cell_type": "code",
   "execution_count": 34,
   "id": "83d7ff2b",
   "metadata": {
    "papermill": {
     "duration": 0.01978,
     "end_time": "2023-10-13T02:35:10.931729",
     "exception": false,
     "start_time": "2023-10-13T02:35:10.911949",
     "status": "completed"
    },
    "tags": []
   },
   "outputs": [],
   "source": [
    "def feat_eng(df):\n",
    "    cols = [c for c in df.columns if c not in ['row_id', 'time_id']] # compatible for training, test and inference\n",
    "    df = df[cols]\n",
    "    # feature_engineering\n",
    "    df.drop(columns=[\n",
    "        'date_id', \n",
    "#         'reference_price_far_price_imb',\n",
    "#         'reference_price_minus_near_price',\n",
    "#         'reference_price_near_price_imb',\n",
    "#         'far_price_near_price_imb',\n",
    "#         'far_price_ask_price_imb',\n",
    "#         'far_price_bid_price_imb',\n",
    "#         'far_price_minus_wap',\n",
    "#         'std_size',\n",
    "#         'bid_size_over_ask_size',\n",
    "#         'ask_price_bid_price_imb',\n",
    "#         'near_price_times_wap'\n",
    "    ], inplace=True)\n",
    "        \n",
    "    gc.collect()\n",
    "    \n",
    "    return df"
   ]
  },
  {
   "cell_type": "markdown",
   "id": "7db1da27",
   "metadata": {
    "papermill": {
     "duration": 0.0089,
     "end_time": "2023-10-13T02:35:10.949351",
     "exception": false,
     "start_time": "2023-10-13T02:35:10.940451",
     "status": "completed"
    },
    "tags": []
   },
   "source": [
    "## Section 2B: Ready X, y\n",
    "\n",
    "> TODO: train_test_split"
   ]
  },
  {
   "cell_type": "code",
   "execution_count": 35,
   "id": "458af615",
   "metadata": {
    "papermill": {
     "duration": 0.439448,
     "end_time": "2023-10-13T02:35:11.397426",
     "exception": false,
     "start_time": "2023-10-13T02:35:10.957978",
     "status": "completed"
    },
    "tags": []
   },
   "outputs": [
    {
     "name": "stdout",
     "output_type": "stream",
     "text": [
      "CPU times: user 211 ms, sys: 176 ms, total: 388 ms\n",
      "Wall time: 385 ms\n"
     ]
    }
   ],
   "source": [
    "%%time\n",
    "\n",
    "y = train['target'].values\n",
    "X = feat_eng(train.drop(columns='target'))\n",
    "\n",
    "# prices = [c for c in train.columns if 'price' in c]\n",
    "# pca_prices = PCA(n_components=1)\n",
    "# X['pca_prices'] = pca_prices.fit_transform(X[prices].fillna(1))"
   ]
  },
  {
   "cell_type": "code",
   "execution_count": 36,
   "id": "4d1e2b6c",
   "metadata": {
    "papermill": {
     "duration": 0.015659,
     "end_time": "2023-10-13T02:35:11.418900",
     "exception": false,
     "start_time": "2023-10-13T02:35:11.403241",
     "status": "completed"
    },
    "tags": []
   },
   "outputs": [
    {
     "data": {
      "text/plain": [
       "(5237980,)"
      ]
     },
     "metadata": {},
     "output_type": "display_data"
    },
    {
     "data": {
      "text/plain": [
       "(5237980, 13)"
      ]
     },
     "metadata": {},
     "output_type": "display_data"
    }
   ],
   "source": [
    "display(y.shape)\n",
    "display(X.shape)"
   ]
  },
  {
   "cell_type": "markdown",
   "id": "d1ff9eca",
   "metadata": {
    "papermill": {
     "duration": 0.005645,
     "end_time": "2023-10-13T02:35:11.430283",
     "exception": false,
     "start_time": "2023-10-13T02:35:11.424638",
     "status": "completed"
    },
    "tags": []
   },
   "source": [
    "# Section 3: Train Model\n",
    "\n",
    "> TODO: Hyperparameters Tuning (CV),\n",
    "Optimizer,\n",
    "Loss Function,\n",
    "Learning Rate Scheduler,"
   ]
  },
  {
   "cell_type": "code",
   "execution_count": 24,
   "id": "49742fc4",
   "metadata": {
    "papermill": {
     "duration": 93.052645,
     "end_time": "2023-10-13T02:36:44.488315",
     "exception": false,
     "start_time": "2023-10-13T02:35:11.435670",
     "status": "completed"
    },
    "tags": []
   },
   "outputs": [
    {
     "name": "stdout",
     "output_type": "stream",
     "text": [
      "CPU times: user 8h 3min 20s, sys: 36.1 s, total: 8h 3min 56s\n",
      "Wall time: 22min 56s\n"
     ]
    },
    {
     "data": {
      "text/html": [
       "<style>#sk-container-id-1 {color: black;}#sk-container-id-1 pre{padding: 0;}#sk-container-id-1 div.sk-toggleable {background-color: white;}#sk-container-id-1 label.sk-toggleable__label {cursor: pointer;display: block;width: 100%;margin-bottom: 0;padding: 0.3em;box-sizing: border-box;text-align: center;}#sk-container-id-1 label.sk-toggleable__label-arrow:before {content: \"▸\";float: left;margin-right: 0.25em;color: #696969;}#sk-container-id-1 label.sk-toggleable__label-arrow:hover:before {color: black;}#sk-container-id-1 div.sk-estimator:hover label.sk-toggleable__label-arrow:before {color: black;}#sk-container-id-1 div.sk-toggleable__content {max-height: 0;max-width: 0;overflow: hidden;text-align: left;background-color: #f0f8ff;}#sk-container-id-1 div.sk-toggleable__content pre {margin: 0.2em;color: black;border-radius: 0.25em;background-color: #f0f8ff;}#sk-container-id-1 input.sk-toggleable__control:checked~div.sk-toggleable__content {max-height: 200px;max-width: 100%;overflow: auto;}#sk-container-id-1 input.sk-toggleable__control:checked~label.sk-toggleable__label-arrow:before {content: \"▾\";}#sk-container-id-1 div.sk-estimator input.sk-toggleable__control:checked~label.sk-toggleable__label {background-color: #d4ebff;}#sk-container-id-1 div.sk-label input.sk-toggleable__control:checked~label.sk-toggleable__label {background-color: #d4ebff;}#sk-container-id-1 input.sk-hidden--visually {border: 0;clip: rect(1px 1px 1px 1px);clip: rect(1px, 1px, 1px, 1px);height: 1px;margin: -1px;overflow: hidden;padding: 0;position: absolute;width: 1px;}#sk-container-id-1 div.sk-estimator {font-family: monospace;background-color: #f0f8ff;border: 1px dotted black;border-radius: 0.25em;box-sizing: border-box;margin-bottom: 0.5em;}#sk-container-id-1 div.sk-estimator:hover {background-color: #d4ebff;}#sk-container-id-1 div.sk-parallel-item::after {content: \"\";width: 100%;border-bottom: 1px solid gray;flex-grow: 1;}#sk-container-id-1 div.sk-label:hover label.sk-toggleable__label {background-color: #d4ebff;}#sk-container-id-1 div.sk-serial::before {content: \"\";position: absolute;border-left: 1px solid gray;box-sizing: border-box;top: 0;bottom: 0;left: 50%;z-index: 0;}#sk-container-id-1 div.sk-serial {display: flex;flex-direction: column;align-items: center;background-color: white;padding-right: 0.2em;padding-left: 0.2em;position: relative;}#sk-container-id-1 div.sk-item {position: relative;z-index: 1;}#sk-container-id-1 div.sk-parallel {display: flex;align-items: stretch;justify-content: center;background-color: white;position: relative;}#sk-container-id-1 div.sk-item::before, #sk-container-id-1 div.sk-parallel-item::before {content: \"\";position: absolute;border-left: 1px solid gray;box-sizing: border-box;top: 0;bottom: 0;left: 50%;z-index: -1;}#sk-container-id-1 div.sk-parallel-item {display: flex;flex-direction: column;z-index: 1;position: relative;background-color: white;}#sk-container-id-1 div.sk-parallel-item:first-child::after {align-self: flex-end;width: 50%;}#sk-container-id-1 div.sk-parallel-item:last-child::after {align-self: flex-start;width: 50%;}#sk-container-id-1 div.sk-parallel-item:only-child::after {width: 0;}#sk-container-id-1 div.sk-dashed-wrapped {border: 1px dashed gray;margin: 0 0.4em 0.5em 0.4em;box-sizing: border-box;padding-bottom: 0.4em;background-color: white;}#sk-container-id-1 div.sk-label label {font-family: monospace;font-weight: bold;display: inline-block;line-height: 1.2em;}#sk-container-id-1 div.sk-label-container {text-align: center;}#sk-container-id-1 div.sk-container {/* jupyter's `normalize.less` sets `[hidden] { display: none; }` but bootstrap.min.css set `[hidden] { display: none !important; }` so we also need the `!important` here to be able to override the default hidden behavior on the sphinx rendered scikit-learn.org. See: https://github.com/scikit-learn/scikit-learn/issues/21755 */display: inline-block !important;position: relative;}#sk-container-id-1 div.sk-text-repr-fallback {display: none;}</style><div id=\"sk-container-id-1\" class=\"sk-top-container\"><div class=\"sk-text-repr-fallback\"><pre>RandomForestRegressor(criterion=&#x27;absolute_error&#x27;, n_jobs=-1, random_state=42)</pre><b>In a Jupyter environment, please rerun this cell to show the HTML representation or trust the notebook. <br />On GitHub, the HTML representation is unable to render, please try loading this page with nbviewer.org.</b></div><div class=\"sk-container\" hidden><div class=\"sk-item\"><div class=\"sk-estimator sk-toggleable\"><input class=\"sk-toggleable__control sk-hidden--visually\" id=\"sk-estimator-id-1\" type=\"checkbox\" checked><label for=\"sk-estimator-id-1\" class=\"sk-toggleable__label sk-toggleable__label-arrow\">RandomForestRegressor</label><div class=\"sk-toggleable__content\"><pre>RandomForestRegressor(criterion=&#x27;absolute_error&#x27;, n_jobs=-1, random_state=42)</pre></div></div></div></div></div>"
      ],
      "text/plain": [
       "RandomForestRegressor(criterion='absolute_error', n_jobs=-1, random_state=42)"
      ]
     },
     "execution_count": 24,
     "metadata": {},
     "output_type": "execute_result"
    }
   ],
   "source": [
    "%%time\n",
    "X = X[:100000]\n",
    "y = y[:100000]\n",
    "\n",
    "\n",
    "m = RandomForestRegressor(\n",
    "    criterion='absolute_error',\n",
    "#     max_depth=5, \n",
    "    n_estimators=100,\n",
    "    random_state=42,\n",
    "    n_jobs=-1\n",
    ")\n",
    "m.fit(X, y)"
   ]
  },
  {
   "cell_type": "markdown",
   "id": "2b246de9",
   "metadata": {
    "papermill": {
     "duration": 0.006178,
     "end_time": "2023-10-13T02:36:44.500755",
     "exception": false,
     "start_time": "2023-10-13T02:36:44.494577",
     "status": "completed"
    },
    "tags": []
   },
   "source": [
    "## Section 3a: Inspect Model\n",
    "> TODO: Inspect Training results ( Overfit/underfit)"
   ]
  },
  {
   "cell_type": "code",
   "execution_count": 25,
   "id": "968241b7",
   "metadata": {
    "papermill": {
     "duration": 0.052774,
     "end_time": "2023-10-13T02:36:44.559825",
     "exception": false,
     "start_time": "2023-10-13T02:36:44.507051",
     "status": "completed"
    },
    "tags": []
   },
   "outputs": [
    {
     "data": {
      "text/plain": [
       "[(0.011251007347893067, 'imbalance_buy_sell_flag'),\n",
       " (0.03550823107395644, 'near_price'),\n",
       " (0.03640299924368233, 'far_price'),\n",
       " (0.0735956830614513, 'wap'),\n",
       " (0.07954614646297864, 'reference_price'),\n",
       " (0.08051785991492752, 'ask_price'),\n",
       " (0.08075408849713815, 'imbalance_size'),\n",
       " (0.08142565115467491, 'bid_price'),\n",
       " (0.08183499907418827, 'stock_id'),\n",
       " (0.09222819006839579, 'seconds_in_bucket'),\n",
       " (0.11170180083854137, 'ask_size'),\n",
       " (0.11186299949149461, 'bid_size'),\n",
       " (0.12337034377067761, 'matched_size')]"
      ]
     },
     "metadata": {},
     "output_type": "display_data"
    }
   ],
   "source": [
    "display(sorted(list(zip(m.feature_importances_, X.columns))))"
   ]
  },
  {
   "cell_type": "code",
   "execution_count": 26,
   "id": "64f46779",
   "metadata": {
    "papermill": {
     "duration": 0.019708,
     "end_time": "2023-10-13T02:36:44.586718",
     "exception": false,
     "start_time": "2023-10-13T02:36:44.567010",
     "status": "completed"
    },
    "tags": []
   },
   "outputs": [
    {
     "data": {
      "text/html": [
       "<style>#sk-container-id-2 {color: black;}#sk-container-id-2 pre{padding: 0;}#sk-container-id-2 div.sk-toggleable {background-color: white;}#sk-container-id-2 label.sk-toggleable__label {cursor: pointer;display: block;width: 100%;margin-bottom: 0;padding: 0.3em;box-sizing: border-box;text-align: center;}#sk-container-id-2 label.sk-toggleable__label-arrow:before {content: \"▸\";float: left;margin-right: 0.25em;color: #696969;}#sk-container-id-2 label.sk-toggleable__label-arrow:hover:before {color: black;}#sk-container-id-2 div.sk-estimator:hover label.sk-toggleable__label-arrow:before {color: black;}#sk-container-id-2 div.sk-toggleable__content {max-height: 0;max-width: 0;overflow: hidden;text-align: left;background-color: #f0f8ff;}#sk-container-id-2 div.sk-toggleable__content pre {margin: 0.2em;color: black;border-radius: 0.25em;background-color: #f0f8ff;}#sk-container-id-2 input.sk-toggleable__control:checked~div.sk-toggleable__content {max-height: 200px;max-width: 100%;overflow: auto;}#sk-container-id-2 input.sk-toggleable__control:checked~label.sk-toggleable__label-arrow:before {content: \"▾\";}#sk-container-id-2 div.sk-estimator input.sk-toggleable__control:checked~label.sk-toggleable__label {background-color: #d4ebff;}#sk-container-id-2 div.sk-label input.sk-toggleable__control:checked~label.sk-toggleable__label {background-color: #d4ebff;}#sk-container-id-2 input.sk-hidden--visually {border: 0;clip: rect(1px 1px 1px 1px);clip: rect(1px, 1px, 1px, 1px);height: 1px;margin: -1px;overflow: hidden;padding: 0;position: absolute;width: 1px;}#sk-container-id-2 div.sk-estimator {font-family: monospace;background-color: #f0f8ff;border: 1px dotted black;border-radius: 0.25em;box-sizing: border-box;margin-bottom: 0.5em;}#sk-container-id-2 div.sk-estimator:hover {background-color: #d4ebff;}#sk-container-id-2 div.sk-parallel-item::after {content: \"\";width: 100%;border-bottom: 1px solid gray;flex-grow: 1;}#sk-container-id-2 div.sk-label:hover label.sk-toggleable__label {background-color: #d4ebff;}#sk-container-id-2 div.sk-serial::before {content: \"\";position: absolute;border-left: 1px solid gray;box-sizing: border-box;top: 0;bottom: 0;left: 50%;z-index: 0;}#sk-container-id-2 div.sk-serial {display: flex;flex-direction: column;align-items: center;background-color: white;padding-right: 0.2em;padding-left: 0.2em;position: relative;}#sk-container-id-2 div.sk-item {position: relative;z-index: 1;}#sk-container-id-2 div.sk-parallel {display: flex;align-items: stretch;justify-content: center;background-color: white;position: relative;}#sk-container-id-2 div.sk-item::before, #sk-container-id-2 div.sk-parallel-item::before {content: \"\";position: absolute;border-left: 1px solid gray;box-sizing: border-box;top: 0;bottom: 0;left: 50%;z-index: -1;}#sk-container-id-2 div.sk-parallel-item {display: flex;flex-direction: column;z-index: 1;position: relative;background-color: white;}#sk-container-id-2 div.sk-parallel-item:first-child::after {align-self: flex-end;width: 50%;}#sk-container-id-2 div.sk-parallel-item:last-child::after {align-self: flex-start;width: 50%;}#sk-container-id-2 div.sk-parallel-item:only-child::after {width: 0;}#sk-container-id-2 div.sk-dashed-wrapped {border: 1px dashed gray;margin: 0 0.4em 0.5em 0.4em;box-sizing: border-box;padding-bottom: 0.4em;background-color: white;}#sk-container-id-2 div.sk-label label {font-family: monospace;font-weight: bold;display: inline-block;line-height: 1.2em;}#sk-container-id-2 div.sk-label-container {text-align: center;}#sk-container-id-2 div.sk-container {/* jupyter's `normalize.less` sets `[hidden] { display: none; }` but bootstrap.min.css set `[hidden] { display: none !important; }` so we also need the `!important` here to be able to override the default hidden behavior on the sphinx rendered scikit-learn.org. See: https://github.com/scikit-learn/scikit-learn/issues/21755 */display: inline-block !important;position: relative;}#sk-container-id-2 div.sk-text-repr-fallback {display: none;}</style><div id=\"sk-container-id-2\" class=\"sk-top-container\"><div class=\"sk-text-repr-fallback\"><pre>RandomForestRegressor(criterion=&#x27;absolute_error&#x27;, n_jobs=-1, random_state=42)</pre><b>In a Jupyter environment, please rerun this cell to show the HTML representation or trust the notebook. <br />On GitHub, the HTML representation is unable to render, please try loading this page with nbviewer.org.</b></div><div class=\"sk-container\" hidden><div class=\"sk-item\"><div class=\"sk-estimator sk-toggleable\"><input class=\"sk-toggleable__control sk-hidden--visually\" id=\"sk-estimator-id-2\" type=\"checkbox\" checked><label for=\"sk-estimator-id-2\" class=\"sk-toggleable__label sk-toggleable__label-arrow\">RandomForestRegressor</label><div class=\"sk-toggleable__content\"><pre>RandomForestRegressor(criterion=&#x27;absolute_error&#x27;, n_jobs=-1, random_state=42)</pre></div></div></div></div></div>"
      ],
      "text/plain": [
       "RandomForestRegressor(criterion='absolute_error', n_jobs=-1, random_state=42)"
      ]
     },
     "execution_count": 26,
     "metadata": {},
     "output_type": "execute_result"
    }
   ],
   "source": [
    "m"
   ]
  },
  {
   "cell_type": "markdown",
   "id": "ad11f744",
   "metadata": {
    "papermill": {
     "duration": 0.007552,
     "end_time": "2023-10-13T02:36:44.601482",
     "exception": false,
     "start_time": "2023-10-13T02:36:44.593930",
     "status": "completed"
    },
    "tags": []
   },
   "source": [
    "## Section 3b: Test Model"
   ]
  },
  {
   "cell_type": "code",
   "execution_count": 37,
   "id": "4cafab18",
   "metadata": {
    "papermill": {
     "duration": 0.160559,
     "end_time": "2023-10-13T02:36:44.768451",
     "exception": false,
     "start_time": "2023-10-13T02:36:44.607892",
     "status": "completed"
    },
    "tags": []
   },
   "outputs": [],
   "source": [
    "test = feat_eng(test)\n",
    "# test['pca_prices'] = pca_prices.transform(test[prices].fillna(1))"
   ]
  },
  {
   "cell_type": "code",
   "execution_count": 38,
   "id": "33b5c82b",
   "metadata": {
    "papermill": {
     "duration": 0.018687,
     "end_time": "2023-10-13T02:36:44.793792",
     "exception": false,
     "start_time": "2023-10-13T02:36:44.775105",
     "status": "completed"
    },
    "tags": []
   },
   "outputs": [],
   "source": [
    "test.shape\n",
    "test = test.fillna(1)"
   ]
  },
  {
   "cell_type": "code",
   "execution_count": 39,
   "id": "95a8f28e",
   "metadata": {
    "papermill": {
     "duration": 0.216696,
     "end_time": "2023-10-13T02:36:45.017584",
     "exception": false,
     "start_time": "2023-10-13T02:36:44.800888",
     "status": "completed"
    },
    "tags": []
   },
   "outputs": [
    {
     "data": {
      "text/plain": [
       "array([-1.08476278,  1.52677893,  2.26571559, ...,  2.91283727,\n",
       "        0.36857723,  0.12997984])"
      ]
     },
     "execution_count": 39,
     "metadata": {},
     "output_type": "execute_result"
    }
   ],
   "source": [
    "m.predict(test)"
   ]
  },
  {
   "cell_type": "markdown",
   "id": "91e83002",
   "metadata": {
    "papermill": {
     "duration": 0.008879,
     "end_time": "2023-10-13T02:36:45.032811",
     "exception": false,
     "start_time": "2023-10-13T02:36:45.023932",
     "status": "completed"
    },
    "tags": []
   },
   "source": [
    "# Section 4: Inference Model"
   ]
  },
  {
   "cell_type": "markdown",
   "id": "760dc07e",
   "metadata": {
    "papermill": {
     "duration": 0.006801,
     "end_time": "2023-10-13T02:36:45.046967",
     "exception": false,
     "start_time": "2023-10-13T02:36:45.040166",
     "status": "completed"
    },
    "tags": []
   },
   "source": [
    "## Section 4a: Helper Function"
   ]
  },
  {
   "cell_type": "code",
   "execution_count": 43,
   "id": "d9511524",
   "metadata": {
    "papermill": {
     "duration": 0.015145,
     "end_time": "2023-10-13T02:36:45.070969",
     "exception": false,
     "start_time": "2023-10-13T02:36:45.055824",
     "status": "completed"
    },
    "tags": []
   },
   "outputs": [],
   "source": [
    "def zero_sum(prices, volumes): \n",
    "#    I got this idea from https://github.com/gotoConversion/goto_conversion/\n",
    "    std_error = np.sqrt(volumes)\n",
    "    step = np.sum(prices)/np.sum(std_error)\n",
    "    out = prices-std_error*step\n",
    "    \n",
    "    return out"
   ]
  },
  {
   "cell_type": "code",
   "execution_count": 44,
   "id": "a95105d4",
   "metadata": {
    "papermill": {
     "duration": 0.046541,
     "end_time": "2023-10-13T02:36:45.124008",
     "exception": false,
     "start_time": "2023-10-13T02:36:45.077467",
     "status": "completed"
    },
    "tags": []
   },
   "outputs": [
    {
     "ename": "ModuleNotFoundError",
     "evalue": "No module named 'optiver2023'",
     "output_type": "error",
     "traceback": [
      "\u001b[0;31m---------------------------------------------------------------------------\u001b[0m",
      "\u001b[0;31mModuleNotFoundError\u001b[0m                       Traceback (most recent call last)",
      "Cell \u001b[0;32mIn[44], line 1\u001b[0m\n\u001b[0;32m----> 1\u001b[0m \u001b[38;5;28;01mimport\u001b[39;00m \u001b[38;5;21;01moptiver2023\u001b[39;00m\n\u001b[1;32m      2\u001b[0m env \u001b[38;5;241m=\u001b[39m optiver2023\u001b[38;5;241m.\u001b[39mmake_env()\n\u001b[1;32m      3\u001b[0m iter_test \u001b[38;5;241m=\u001b[39m env\u001b[38;5;241m.\u001b[39miter_test()\n",
      "\u001b[0;31mModuleNotFoundError\u001b[0m: No module named 'optiver2023'"
     ]
    }
   ],
   "source": [
    "import optiver2023\n",
    "env = optiver2023.make_env()\n",
    "iter_test = env.iter_test()"
   ]
  },
  {
   "cell_type": "code",
   "execution_count": 42,
   "id": "96426ce2",
   "metadata": {
    "papermill": {
     "duration": 24.481011,
     "end_time": "2023-10-13T02:37:09.611476",
     "exception": false,
     "start_time": "2023-10-13T02:36:45.130465",
     "status": "completed"
    },
    "tags": []
   },
   "outputs": [
    {
     "ename": "NameError",
     "evalue": "name 'iter_test' is not defined",
     "output_type": "error",
     "traceback": [
      "\u001b[0;31m---------------------------------------------------------------------------\u001b[0m",
      "\u001b[0;31mNameError\u001b[0m                                 Traceback (most recent call last)",
      "Cell \u001b[0;32mIn[42], line 2\u001b[0m\n\u001b[1;32m      1\u001b[0m counter \u001b[38;5;241m=\u001b[39m \u001b[38;5;241m0\u001b[39m \u001b[38;5;66;03m# not sure why its needed but i'll keep it now: Falcon\u001b[39;00m\n\u001b[0;32m----> 2\u001b[0m \u001b[38;5;28;01mfor\u001b[39;00m (test, revealed_targets, sample_prediction) \u001b[38;5;129;01min\u001b[39;00m \u001b[43miter_test\u001b[49m:\n\u001b[1;32m      3\u001b[0m     feat \u001b[38;5;241m=\u001b[39m feat_eng(test)\n\u001b[1;32m      4\u001b[0m \u001b[38;5;66;03m#     feat['pca_prices'] = pca_prices.transform(feat[prices].fillna(1))\u001b[39;00m\n",
      "\u001b[0;31mNameError\u001b[0m: name 'iter_test' is not defined"
     ]
    }
   ],
   "source": [
    "counter = 0 # not sure why its needed but i'll keep it now: Falcon\n",
    "for (test, revealed_targets, sample_prediction) in iter_test:\n",
    "    feat = feat_eng(test)\n",
    "#     feat['pca_prices'] = pca_prices.transform(feat[prices].fillna(1))\n",
    "    feat = feat.fillna(1)\n",
    "    sample_prediction['target'] = m.predict(feat)\n",
    "    sample_prediction['target'] = zero_sum(sample_prediction['target'], test.loc[:,'bid_size'] + test.loc[:,'ask_size'])\n",
    "    env.predict(sample_prediction)\n",
    "    counter += 1 "
   ]
  },
  {
   "cell_type": "code",
   "execution_count": null,
   "id": "e52805f8",
   "metadata": {
    "papermill": {
     "duration": 0.005802,
     "end_time": "2023-10-13T02:37:09.623588",
     "exception": false,
     "start_time": "2023-10-13T02:37:09.617786",
     "status": "completed"
    },
    "tags": []
   },
   "outputs": [],
   "source": []
  }
 ],
 "metadata": {
  "kernelspec": {
   "display_name": "Python 3 (ipykernel)",
   "language": "python",
   "name": "python3"
  },
  "language_info": {
   "codemirror_mode": {
    "name": "ipython",
    "version": 3
   },
   "file_extension": ".py",
   "mimetype": "text/x-python",
   "name": "python",
   "nbconvert_exporter": "python",
   "pygments_lexer": "ipython3",
   "version": "3.11.4"
  },
  "papermill": {
   "default_parameters": {},
   "duration": 151.2321,
   "end_time": "2023-10-13T02:37:11.654570",
   "environment_variables": {},
   "exception": null,
   "input_path": "__notebook__.ipynb",
   "output_path": "__notebook__.ipynb",
   "parameters": {},
   "start_time": "2023-10-13T02:34:40.422470",
   "version": "2.4.0"
  }
 },
 "nbformat": 4,
 "nbformat_minor": 5
}
