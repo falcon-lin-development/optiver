{
 "cells": [
  {
   "cell_type": "raw",
   "id": "a8407575",
   "metadata": {
    "_cell_guid": "b1076dfc-b9ad-4769-8c92-a6c4dae69d19",
    "_uuid": "8f2839f25d086af736a60e9eeb907d3b93b6e0e5",
    "papermill": {
     "duration": 0.005364,
     "end_time": "2023-10-12T05:20:00.625417",
     "exception": false,
     "start_time": "2023-10-12T05:20:00.620053",
     "status": "completed"
    },
    "tags": []
   },
   "source": [
    "# This Python 3 environment comes with many helpful analytics libraries installed\n",
    "# It is defined by the kaggle/python Docker image: https://github.com/kaggle/docker-python\n",
    "# For example, here's several helpful packages to load\n",
    "\n",
    "import numpy as np # linear algebra\n",
    "import pandas as pd # data processing, CSV file I/O (e.g. pd.read_csv)\n",
    "\n",
    "# Input data files are available in the read-only \"../input/\" directory\n",
    "# For example, running this (by clicking run or pressing Shift+Enter) will list all files under the input directory\n",
    "\n",
    "import os\n",
    "for dirname, _, filenames in os.walk('/kaggle/input'):\n",
    "    for filename in filenames:\n",
    "        print(os.path.join(dirname, filename))\n",
    "\n",
    "# You can write up to 20GB to the current directory (/kaggle/working/) that gets preserved as output when you create a version using \"Save & Run All\" \n",
    "# You can also write temporary files to /kaggle/temp/, but they won't be saved outside of the current session\n",
    "\n",
    "\n",
    "-> CUHK Team Random Forest Regressor"
   ]
  },
  {
   "cell_type": "markdown",
   "id": "0ad3b75e",
   "metadata": {
    "papermill": {
     "duration": 0.004406,
     "end_time": "2023-10-12T05:20:00.634692",
     "exception": false,
     "start_time": "2023-10-12T05:20:00.630286",
     "status": "completed"
    },
    "tags": []
   },
   "source": [
    "# Section 1: Imports"
   ]
  },
  {
   "cell_type": "code",
   "execution_count": 1,
   "id": "e038e8af",
   "metadata": {
    "execution": {
     "iopub.execute_input": "2023-10-12T05:20:00.645516Z",
     "iopub.status.busy": "2023-10-12T05:20:00.645153Z",
     "iopub.status.idle": "2023-10-12T05:20:03.628330Z",
     "shell.execute_reply": "2023-10-12T05:20:03.627174Z"
    },
    "papermill": {
     "duration": 2.991435,
     "end_time": "2023-10-12T05:20:03.630777",
     "exception": false,
     "start_time": "2023-10-12T05:20:00.639342",
     "status": "completed"
    },
    "tags": []
   },
   "outputs": [],
   "source": [
    "import pandas as pd\n",
    "import numpy as np\n",
    "\n",
    "from sklearn.model_selection import train_test_split\n",
    "from sklearn.ensemble import RandomForestRegressor\n",
    "import lightgbm as lgb\n",
    "import gc\n",
    "\n",
    "import warnings\n",
    "warnings.filterwarnings(\"ignore\")\n",
    "from warnings import simplefilter\n",
    "simplefilter(action=\"ignore\", category=pd.errors.PerformanceWarning)"
   ]
  },
  {
   "cell_type": "markdown",
   "id": "039f4376",
   "metadata": {
    "papermill": {
     "duration": 0.004496,
     "end_time": "2023-10-12T05:20:03.640141",
     "exception": false,
     "start_time": "2023-10-12T05:20:03.635645",
     "status": "completed"
    },
    "tags": []
   },
   "source": [
    "# Section 2: Data Preprocessing"
   ]
  },
  {
   "cell_type": "code",
   "execution_count": 2,
   "id": "9f91114b",
   "metadata": {
    "execution": {
     "iopub.execute_input": "2023-10-12T05:20:03.651188Z",
     "iopub.status.busy": "2023-10-12T05:20:03.650475Z",
     "iopub.status.idle": "2023-10-12T05:20:21.614676Z",
     "shell.execute_reply": "2023-10-12T05:20:21.613922Z"
    },
    "papermill": {
     "duration": 17.972184,
     "end_time": "2023-10-12T05:20:21.616924",
     "exception": false,
     "start_time": "2023-10-12T05:20:03.644740",
     "status": "completed"
    },
    "tags": []
   },
   "outputs": [],
   "source": [
    "train = pd.read_csv('/kaggle/input/optiver-trading-at-the-close/train.csv')\n",
    "# revealed_targets = pd.read_csv('/kaggle/input/optiver-trading-at-the-close/example_test_files/revealed_targets.csv')\n",
    "test = pd.read_csv('/kaggle/input/optiver-trading-at-the-close/example_test_files/test.csv')\n",
    "# sample_submission = pd.read_csv('/kaggle/input/optiver-trading-at-the-close/example_test_files/sample_submission.csv')"
   ]
  },
  {
   "cell_type": "code",
   "execution_count": 3,
   "id": "c293b0c7",
   "metadata": {
    "execution": {
     "iopub.execute_input": "2023-10-12T05:20:21.628555Z",
     "iopub.status.busy": "2023-10-12T05:20:21.627501Z",
     "iopub.status.idle": "2023-10-12T05:20:21.634015Z",
     "shell.execute_reply": "2023-10-12T05:20:21.633319Z"
    },
    "papermill": {
     "duration": 0.013929,
     "end_time": "2023-10-12T05:20:21.635754",
     "exception": false,
     "start_time": "2023-10-12T05:20:21.621825",
     "status": "completed"
    },
    "tags": []
   },
   "outputs": [
    {
     "data": {
      "text/plain": [
       "Index(['stock_id', 'date_id', 'seconds_in_bucket', 'imbalance_size',\n",
       "       'imbalance_buy_sell_flag', 'reference_price', 'matched_size',\n",
       "       'far_price', 'near_price', 'bid_price', 'bid_size', 'ask_price',\n",
       "       'ask_size', 'wap', 'target', 'time_id', 'row_id'],\n",
       "      dtype='object')"
      ]
     },
     "execution_count": 3,
     "metadata": {},
     "output_type": "execute_result"
    }
   ],
   "source": [
    "train.columns"
   ]
  },
  {
   "cell_type": "code",
   "execution_count": 4,
   "id": "0a3e376f",
   "metadata": {
    "execution": {
     "iopub.execute_input": "2023-10-12T05:20:21.647338Z",
     "iopub.status.busy": "2023-10-12T05:20:21.646493Z",
     "iopub.status.idle": "2023-10-12T05:20:21.652420Z",
     "shell.execute_reply": "2023-10-12T05:20:21.651455Z"
    },
    "papermill": {
     "duration": 0.01394,
     "end_time": "2023-10-12T05:20:21.654570",
     "exception": false,
     "start_time": "2023-10-12T05:20:21.640630",
     "status": "completed"
    },
    "tags": []
   },
   "outputs": [
    {
     "data": {
      "text/plain": [
       "(5237980, 17)"
      ]
     },
     "execution_count": 4,
     "metadata": {},
     "output_type": "execute_result"
    }
   ],
   "source": [
    "train.shape"
   ]
  },
  {
   "cell_type": "code",
   "execution_count": 5,
   "id": "988e2225",
   "metadata": {
    "execution": {
     "iopub.execute_input": "2023-10-12T05:20:21.666216Z",
     "iopub.status.busy": "2023-10-12T05:20:21.665856Z",
     "iopub.status.idle": "2023-10-12T05:20:21.784294Z",
     "shell.execute_reply": "2023-10-12T05:20:21.783566Z"
    },
    "papermill": {
     "duration": 0.126683,
     "end_time": "2023-10-12T05:20:21.786152",
     "exception": false,
     "start_time": "2023-10-12T05:20:21.659469",
     "status": "completed"
    },
    "tags": []
   },
   "outputs": [
    {
     "data": {
      "text/html": [
       "<div>\n",
       "<style scoped>\n",
       "    .dataframe tbody tr th:only-of-type {\n",
       "        vertical-align: middle;\n",
       "    }\n",
       "\n",
       "    .dataframe tbody tr th {\n",
       "        vertical-align: top;\n",
       "    }\n",
       "\n",
       "    .dataframe thead th {\n",
       "        text-align: right;\n",
       "    }\n",
       "</style>\n",
       "<table border=\"1\" class=\"dataframe\">\n",
       "  <thead>\n",
       "    <tr style=\"text-align: right;\">\n",
       "      <th></th>\n",
       "      <th>stock_id</th>\n",
       "      <th>date_id</th>\n",
       "      <th>seconds_in_bucket</th>\n",
       "      <th>imbalance_size</th>\n",
       "      <th>imbalance_buy_sell_flag</th>\n",
       "      <th>reference_price</th>\n",
       "      <th>matched_size</th>\n",
       "      <th>far_price</th>\n",
       "      <th>near_price</th>\n",
       "      <th>bid_price</th>\n",
       "      <th>bid_size</th>\n",
       "      <th>ask_price</th>\n",
       "      <th>ask_size</th>\n",
       "      <th>wap</th>\n",
       "      <th>target</th>\n",
       "      <th>time_id</th>\n",
       "      <th>row_id</th>\n",
       "    </tr>\n",
       "  </thead>\n",
       "  <tbody>\n",
       "    <tr>\n",
       "      <th>0</th>\n",
       "      <td>0</td>\n",
       "      <td>0</td>\n",
       "      <td>0</td>\n",
       "      <td>3180602.69</td>\n",
       "      <td>1</td>\n",
       "      <td>0.999812</td>\n",
       "      <td>13380276.64</td>\n",
       "      <td>NaN</td>\n",
       "      <td>NaN</td>\n",
       "      <td>0.999812</td>\n",
       "      <td>60651.50</td>\n",
       "      <td>1.000026</td>\n",
       "      <td>8493.03</td>\n",
       "      <td>1.0</td>\n",
       "      <td>-3.029704</td>\n",
       "      <td>0</td>\n",
       "      <td>0_0_0</td>\n",
       "    </tr>\n",
       "    <tr>\n",
       "      <th>1</th>\n",
       "      <td>1</td>\n",
       "      <td>0</td>\n",
       "      <td>0</td>\n",
       "      <td>166603.91</td>\n",
       "      <td>-1</td>\n",
       "      <td>0.999896</td>\n",
       "      <td>1642214.25</td>\n",
       "      <td>NaN</td>\n",
       "      <td>NaN</td>\n",
       "      <td>0.999896</td>\n",
       "      <td>3233.04</td>\n",
       "      <td>1.000660</td>\n",
       "      <td>20605.09</td>\n",
       "      <td>1.0</td>\n",
       "      <td>-5.519986</td>\n",
       "      <td>0</td>\n",
       "      <td>0_0_1</td>\n",
       "    </tr>\n",
       "    <tr>\n",
       "      <th>2</th>\n",
       "      <td>2</td>\n",
       "      <td>0</td>\n",
       "      <td>0</td>\n",
       "      <td>302879.87</td>\n",
       "      <td>-1</td>\n",
       "      <td>0.999561</td>\n",
       "      <td>1819368.03</td>\n",
       "      <td>NaN</td>\n",
       "      <td>NaN</td>\n",
       "      <td>0.999403</td>\n",
       "      <td>37956.00</td>\n",
       "      <td>1.000298</td>\n",
       "      <td>18995.00</td>\n",
       "      <td>1.0</td>\n",
       "      <td>-8.389950</td>\n",
       "      <td>0</td>\n",
       "      <td>0_0_2</td>\n",
       "    </tr>\n",
       "    <tr>\n",
       "      <th>3</th>\n",
       "      <td>3</td>\n",
       "      <td>0</td>\n",
       "      <td>0</td>\n",
       "      <td>11917682.27</td>\n",
       "      <td>-1</td>\n",
       "      <td>1.000171</td>\n",
       "      <td>18389745.62</td>\n",
       "      <td>NaN</td>\n",
       "      <td>NaN</td>\n",
       "      <td>0.999999</td>\n",
       "      <td>2324.90</td>\n",
       "      <td>1.000214</td>\n",
       "      <td>479032.40</td>\n",
       "      <td>1.0</td>\n",
       "      <td>-4.010200</td>\n",
       "      <td>0</td>\n",
       "      <td>0_0_3</td>\n",
       "    </tr>\n",
       "    <tr>\n",
       "      <th>4</th>\n",
       "      <td>4</td>\n",
       "      <td>0</td>\n",
       "      <td>0</td>\n",
       "      <td>447549.96</td>\n",
       "      <td>-1</td>\n",
       "      <td>0.999532</td>\n",
       "      <td>17860614.95</td>\n",
       "      <td>NaN</td>\n",
       "      <td>NaN</td>\n",
       "      <td>0.999394</td>\n",
       "      <td>16485.54</td>\n",
       "      <td>1.000016</td>\n",
       "      <td>434.10</td>\n",
       "      <td>1.0</td>\n",
       "      <td>-7.349849</td>\n",
       "      <td>0</td>\n",
       "      <td>0_0_4</td>\n",
       "    </tr>\n",
       "  </tbody>\n",
       "</table>\n",
       "</div>"
      ],
      "text/plain": [
       "   stock_id  date_id  seconds_in_bucket  imbalance_size  \\\n",
       "0         0        0                  0      3180602.69   \n",
       "1         1        0                  0       166603.91   \n",
       "2         2        0                  0       302879.87   \n",
       "3         3        0                  0     11917682.27   \n",
       "4         4        0                  0       447549.96   \n",
       "\n",
       "   imbalance_buy_sell_flag  reference_price  matched_size  far_price  \\\n",
       "0                        1         0.999812   13380276.64        NaN   \n",
       "1                       -1         0.999896    1642214.25        NaN   \n",
       "2                       -1         0.999561    1819368.03        NaN   \n",
       "3                       -1         1.000171   18389745.62        NaN   \n",
       "4                       -1         0.999532   17860614.95        NaN   \n",
       "\n",
       "   near_price  bid_price  bid_size  ask_price   ask_size  wap    target  \\\n",
       "0         NaN   0.999812  60651.50   1.000026    8493.03  1.0 -3.029704   \n",
       "1         NaN   0.999896   3233.04   1.000660   20605.09  1.0 -5.519986   \n",
       "2         NaN   0.999403  37956.00   1.000298   18995.00  1.0 -8.389950   \n",
       "3         NaN   0.999999   2324.90   1.000214  479032.40  1.0 -4.010200   \n",
       "4         NaN   0.999394  16485.54   1.000016     434.10  1.0 -7.349849   \n",
       "\n",
       "   time_id row_id  \n",
       "0        0  0_0_0  \n",
       "1        0  0_0_1  \n",
       "2        0  0_0_2  \n",
       "3        0  0_0_3  \n",
       "4        0  0_0_4  "
      ]
     },
     "execution_count": 5,
     "metadata": {},
     "output_type": "execute_result"
    }
   ],
   "source": [
    "train.head(5)"
   ]
  },
  {
   "cell_type": "markdown",
   "id": "399333ba",
   "metadata": {
    "papermill": {
     "duration": 0.00485,
     "end_time": "2023-10-12T05:20:21.796164",
     "exception": false,
     "start_time": "2023-10-12T05:20:21.791314",
     "status": "completed"
    },
    "tags": []
   },
   "source": [
    "## Section 2A: Feature Engineering\n",
    "> TODO: Feature Engin.\n"
   ]
  },
  {
   "cell_type": "code",
   "execution_count": 6,
   "id": "7341a843",
   "metadata": {
    "execution": {
     "iopub.execute_input": "2023-10-12T05:20:21.808478Z",
     "iopub.status.busy": "2023-10-12T05:20:21.807558Z",
     "iopub.status.idle": "2023-10-12T05:20:21.813346Z",
     "shell.execute_reply": "2023-10-12T05:20:21.812336Z"
    },
    "papermill": {
     "duration": 0.013934,
     "end_time": "2023-10-12T05:20:21.815226",
     "exception": false,
     "start_time": "2023-10-12T05:20:21.801292",
     "status": "completed"
    },
    "tags": []
   },
   "outputs": [],
   "source": [
    "def feat_eng(df):\n",
    "    cols = [c for c in df.columns if c not in ['row_id', 'time_id']] # compatible for training, test and inference\n",
    "    df = df[cols]\n",
    "    # feature_engineering\n",
    "    df.drop(columns=[\n",
    "        'date_id', \n",
    "#         'reference_price_far_price_imb',\n",
    "#         'reference_price_minus_near_price',\n",
    "#         'reference_price_near_price_imb',\n",
    "#         'far_price_near_price_imb',\n",
    "#         'far_price_ask_price_imb',\n",
    "#         'far_price_bid_price_imb',\n",
    "#         'far_price_minus_wap',\n",
    "#         'std_size',\n",
    "#         'bid_size_over_ask_size',\n",
    "#         'ask_price_bid_price_imb',\n",
    "#         'near_price_times_wap'\n",
    "    ], inplace=True)\n",
    "        \n",
    "    gc.collect()\n",
    "    \n",
    "    return df"
   ]
  },
  {
   "cell_type": "markdown",
   "id": "f0309649",
   "metadata": {
    "papermill": {
     "duration": 0.005123,
     "end_time": "2023-10-12T05:20:21.825548",
     "exception": false,
     "start_time": "2023-10-12T05:20:21.820425",
     "status": "completed"
    },
    "tags": []
   },
   "source": [
    "## Section 2B: Ready X, y\n",
    "\n",
    "> TODO: train_test_split"
   ]
  },
  {
   "cell_type": "code",
   "execution_count": 7,
   "id": "a218f0e4",
   "metadata": {
    "execution": {
     "iopub.execute_input": "2023-10-12T05:20:21.837094Z",
     "iopub.status.busy": "2023-10-12T05:20:21.836741Z",
     "iopub.status.idle": "2023-10-12T05:20:22.622204Z",
     "shell.execute_reply": "2023-10-12T05:20:22.621159Z"
    },
    "papermill": {
     "duration": 0.793917,
     "end_time": "2023-10-12T05:20:22.624456",
     "exception": false,
     "start_time": "2023-10-12T05:20:21.830539",
     "status": "completed"
    },
    "tags": []
   },
   "outputs": [
    {
     "name": "stdout",
     "output_type": "stream",
     "text": [
      "CPU times: user 480 ms, sys: 292 ms, total: 773 ms\n",
      "Wall time: 780 ms\n"
     ]
    }
   ],
   "source": [
    "%%time\n",
    "\n",
    "y = train['target'].values\n",
    "X = feat_eng(train.drop(columns='target'))\n",
    "\n",
    "# prices = [c for c in train.columns if 'price' in c]\n",
    "# pca_prices = PCA(n_components=1)\n",
    "# X['pca_prices'] = pca_prices.fit_transform(X[prices].fillna(1))"
   ]
  },
  {
   "cell_type": "markdown",
   "id": "4d9226f6",
   "metadata": {
    "papermill": {
     "duration": 0.005194,
     "end_time": "2023-10-12T05:20:22.635730",
     "exception": false,
     "start_time": "2023-10-12T05:20:22.630536",
     "status": "completed"
    },
    "tags": []
   },
   "source": [
    "# Section 3: Train Model\n",
    "\n",
    "> TODO: Hyperparameters Tuning (CV),\n",
    "Optimizer,\n",
    "Loss Function,\n",
    "Learning Rate Scheduler,"
   ]
  },
  {
   "cell_type": "code",
   "execution_count": 8,
   "id": "db743b02",
   "metadata": {
    "execution": {
     "iopub.execute_input": "2023-10-12T05:20:22.657967Z",
     "iopub.status.busy": "2023-10-12T05:20:22.657587Z",
     "iopub.status.idle": "2023-10-12T05:25:17.205019Z",
     "shell.execute_reply": "2023-10-12T05:25:17.203995Z"
    },
    "papermill": {
     "duration": 294.571776,
     "end_time": "2023-10-12T05:25:17.212819",
     "exception": false,
     "start_time": "2023-10-12T05:20:22.641043",
     "status": "completed"
    },
    "tags": []
   },
   "outputs": [
    {
     "name": "stdout",
     "output_type": "stream",
     "text": [
      "CPU times: user 13min 34s, sys: 21.1 s, total: 13min 55s\n",
      "Wall time: 4min 54s\n"
     ]
    },
    {
     "data": {
      "text/html": [
       "<style>#sk-container-id-1 {color: black;background-color: white;}#sk-container-id-1 pre{padding: 0;}#sk-container-id-1 div.sk-toggleable {background-color: white;}#sk-container-id-1 label.sk-toggleable__label {cursor: pointer;display: block;width: 100%;margin-bottom: 0;padding: 0.3em;box-sizing: border-box;text-align: center;}#sk-container-id-1 label.sk-toggleable__label-arrow:before {content: \"▸\";float: left;margin-right: 0.25em;color: #696969;}#sk-container-id-1 label.sk-toggleable__label-arrow:hover:before {color: black;}#sk-container-id-1 div.sk-estimator:hover label.sk-toggleable__label-arrow:before {color: black;}#sk-container-id-1 div.sk-toggleable__content {max-height: 0;max-width: 0;overflow: hidden;text-align: left;background-color: #f0f8ff;}#sk-container-id-1 div.sk-toggleable__content pre {margin: 0.2em;color: black;border-radius: 0.25em;background-color: #f0f8ff;}#sk-container-id-1 input.sk-toggleable__control:checked~div.sk-toggleable__content {max-height: 200px;max-width: 100%;overflow: auto;}#sk-container-id-1 input.sk-toggleable__control:checked~label.sk-toggleable__label-arrow:before {content: \"▾\";}#sk-container-id-1 div.sk-estimator input.sk-toggleable__control:checked~label.sk-toggleable__label {background-color: #d4ebff;}#sk-container-id-1 div.sk-label input.sk-toggleable__control:checked~label.sk-toggleable__label {background-color: #d4ebff;}#sk-container-id-1 input.sk-hidden--visually {border: 0;clip: rect(1px 1px 1px 1px);clip: rect(1px, 1px, 1px, 1px);height: 1px;margin: -1px;overflow: hidden;padding: 0;position: absolute;width: 1px;}#sk-container-id-1 div.sk-estimator {font-family: monospace;background-color: #f0f8ff;border: 1px dotted black;border-radius: 0.25em;box-sizing: border-box;margin-bottom: 0.5em;}#sk-container-id-1 div.sk-estimator:hover {background-color: #d4ebff;}#sk-container-id-1 div.sk-parallel-item::after {content: \"\";width: 100%;border-bottom: 1px solid gray;flex-grow: 1;}#sk-container-id-1 div.sk-label:hover label.sk-toggleable__label {background-color: #d4ebff;}#sk-container-id-1 div.sk-serial::before {content: \"\";position: absolute;border-left: 1px solid gray;box-sizing: border-box;top: 0;bottom: 0;left: 50%;z-index: 0;}#sk-container-id-1 div.sk-serial {display: flex;flex-direction: column;align-items: center;background-color: white;padding-right: 0.2em;padding-left: 0.2em;position: relative;}#sk-container-id-1 div.sk-item {position: relative;z-index: 1;}#sk-container-id-1 div.sk-parallel {display: flex;align-items: stretch;justify-content: center;background-color: white;position: relative;}#sk-container-id-1 div.sk-item::before, #sk-container-id-1 div.sk-parallel-item::before {content: \"\";position: absolute;border-left: 1px solid gray;box-sizing: border-box;top: 0;bottom: 0;left: 50%;z-index: -1;}#sk-container-id-1 div.sk-parallel-item {display: flex;flex-direction: column;z-index: 1;position: relative;background-color: white;}#sk-container-id-1 div.sk-parallel-item:first-child::after {align-self: flex-end;width: 50%;}#sk-container-id-1 div.sk-parallel-item:last-child::after {align-self: flex-start;width: 50%;}#sk-container-id-1 div.sk-parallel-item:only-child::after {width: 0;}#sk-container-id-1 div.sk-dashed-wrapped {border: 1px dashed gray;margin: 0 0.4em 0.5em 0.4em;box-sizing: border-box;padding-bottom: 0.4em;background-color: white;}#sk-container-id-1 div.sk-label label {font-family: monospace;font-weight: bold;display: inline-block;line-height: 1.2em;}#sk-container-id-1 div.sk-label-container {text-align: center;}#sk-container-id-1 div.sk-container {/* jupyter's `normalize.less` sets `[hidden] { display: none; }` but bootstrap.min.css set `[hidden] { display: none !important; }` so we also need the `!important` here to be able to override the default hidden behavior on the sphinx rendered scikit-learn.org. See: https://github.com/scikit-learn/scikit-learn/issues/21755 */display: inline-block !important;position: relative;}#sk-container-id-1 div.sk-text-repr-fallback {display: none;}</style><div id=\"sk-container-id-1\" class=\"sk-top-container\"><div class=\"sk-text-repr-fallback\"><pre>LGBMRegressor(learning_rate=0.018052307589575444, max_depth=9, n_estimators=700,\n",
       "              num_leaves=442, objective=&#x27;mae&#x27;, random_state=42,\n",
       "              reg_alpha=0.02216069565875271, reg_lambda=0.01223572246957101)</pre><b>In a Jupyter environment, please rerun this cell to show the HTML representation or trust the notebook. <br />On GitHub, the HTML representation is unable to render, please try loading this page with nbviewer.org.</b></div><div class=\"sk-container\" hidden><div class=\"sk-item\"><div class=\"sk-estimator sk-toggleable\"><input class=\"sk-toggleable__control sk-hidden--visually\" id=\"sk-estimator-id-1\" type=\"checkbox\" checked><label for=\"sk-estimator-id-1\" class=\"sk-toggleable__label sk-toggleable__label-arrow\">LGBMRegressor</label><div class=\"sk-toggleable__content\"><pre>LGBMRegressor(learning_rate=0.018052307589575444, max_depth=9, n_estimators=700,\n",
       "              num_leaves=442, objective=&#x27;mae&#x27;, random_state=42,\n",
       "              reg_alpha=0.02216069565875271, reg_lambda=0.01223572246957101)</pre></div></div></div></div></div>"
      ],
      "text/plain": [
       "LGBMRegressor(learning_rate=0.018052307589575444, max_depth=9, n_estimators=700,\n",
       "              num_leaves=442, objective='mae', random_state=42,\n",
       "              reg_alpha=0.02216069565875271, reg_lambda=0.01223572246957101)"
      ]
     },
     "execution_count": 8,
     "metadata": {},
     "output_type": "execute_result"
    }
   ],
   "source": [
    "%%time\n",
    "\n",
    "m = lgb.LGBMRegressor(learning_rate=0.018052307589575444, max_depth=9, n_estimators=700,\n",
    "              num_leaves=442, objective='mae', random_state=42,\n",
    "              reg_alpha=0.02216069565875271, reg_lambda=0.01223572246957101)\n",
    "m.fit(X, y)"
   ]
  },
  {
   "cell_type": "markdown",
   "id": "7ad02ba5",
   "metadata": {
    "papermill": {
     "duration": 0.005664,
     "end_time": "2023-10-12T05:25:17.224194",
     "exception": false,
     "start_time": "2023-10-12T05:25:17.218530",
     "status": "completed"
    },
    "tags": []
   },
   "source": [
    "## Section 3a: Inspect Model\n",
    "> TODO: Inspect Training results ( Overfit/underfit)"
   ]
  },
  {
   "cell_type": "code",
   "execution_count": 9,
   "id": "c85e5de3",
   "metadata": {
    "execution": {
     "iopub.execute_input": "2023-10-12T05:25:17.237163Z",
     "iopub.status.busy": "2023-10-12T05:25:17.236762Z",
     "iopub.status.idle": "2023-10-12T05:25:17.243917Z",
     "shell.execute_reply": "2023-10-12T05:25:17.243057Z"
    },
    "papermill": {
     "duration": 0.015965,
     "end_time": "2023-10-12T05:25:17.245869",
     "exception": false,
     "start_time": "2023-10-12T05:25:17.229904",
     "status": "completed"
    },
    "tags": []
   },
   "outputs": [
    {
     "data": {
      "text/plain": [
       "[(3934, 'imbalance_buy_sell_flag'),\n",
       " (10344, 'wap'),\n",
       " (10952, 'far_price'),\n",
       " (11144, 'near_price'),\n",
       " (12483, 'ask_size'),\n",
       " (12705, 'reference_price'),\n",
       " (13262, 'bid_size'),\n",
       " (14392, 'ask_price'),\n",
       " (14504, 'bid_price'),\n",
       " (17486, 'stock_id'),\n",
       " (18164, 'imbalance_size'),\n",
       " (18532, 'seconds_in_bucket'),\n",
       " (23699, 'matched_size')]"
      ]
     },
     "metadata": {},
     "output_type": "display_data"
    }
   ],
   "source": [
    "display(sorted(list(zip(m.feature_importances_, X.columns))))"
   ]
  },
  {
   "cell_type": "code",
   "execution_count": 10,
   "id": "a4e77883",
   "metadata": {
    "execution": {
     "iopub.execute_input": "2023-10-12T05:25:17.258848Z",
     "iopub.status.busy": "2023-10-12T05:25:17.258512Z",
     "iopub.status.idle": "2023-10-12T05:25:17.266458Z",
     "shell.execute_reply": "2023-10-12T05:25:17.265416Z"
    },
    "papermill": {
     "duration": 0.016938,
     "end_time": "2023-10-12T05:25:17.268453",
     "exception": false,
     "start_time": "2023-10-12T05:25:17.251515",
     "status": "completed"
    },
    "tags": []
   },
   "outputs": [
    {
     "data": {
      "text/html": [
       "<style>#sk-container-id-2 {color: black;background-color: white;}#sk-container-id-2 pre{padding: 0;}#sk-container-id-2 div.sk-toggleable {background-color: white;}#sk-container-id-2 label.sk-toggleable__label {cursor: pointer;display: block;width: 100%;margin-bottom: 0;padding: 0.3em;box-sizing: border-box;text-align: center;}#sk-container-id-2 label.sk-toggleable__label-arrow:before {content: \"▸\";float: left;margin-right: 0.25em;color: #696969;}#sk-container-id-2 label.sk-toggleable__label-arrow:hover:before {color: black;}#sk-container-id-2 div.sk-estimator:hover label.sk-toggleable__label-arrow:before {color: black;}#sk-container-id-2 div.sk-toggleable__content {max-height: 0;max-width: 0;overflow: hidden;text-align: left;background-color: #f0f8ff;}#sk-container-id-2 div.sk-toggleable__content pre {margin: 0.2em;color: black;border-radius: 0.25em;background-color: #f0f8ff;}#sk-container-id-2 input.sk-toggleable__control:checked~div.sk-toggleable__content {max-height: 200px;max-width: 100%;overflow: auto;}#sk-container-id-2 input.sk-toggleable__control:checked~label.sk-toggleable__label-arrow:before {content: \"▾\";}#sk-container-id-2 div.sk-estimator input.sk-toggleable__control:checked~label.sk-toggleable__label {background-color: #d4ebff;}#sk-container-id-2 div.sk-label input.sk-toggleable__control:checked~label.sk-toggleable__label {background-color: #d4ebff;}#sk-container-id-2 input.sk-hidden--visually {border: 0;clip: rect(1px 1px 1px 1px);clip: rect(1px, 1px, 1px, 1px);height: 1px;margin: -1px;overflow: hidden;padding: 0;position: absolute;width: 1px;}#sk-container-id-2 div.sk-estimator {font-family: monospace;background-color: #f0f8ff;border: 1px dotted black;border-radius: 0.25em;box-sizing: border-box;margin-bottom: 0.5em;}#sk-container-id-2 div.sk-estimator:hover {background-color: #d4ebff;}#sk-container-id-2 div.sk-parallel-item::after {content: \"\";width: 100%;border-bottom: 1px solid gray;flex-grow: 1;}#sk-container-id-2 div.sk-label:hover label.sk-toggleable__label {background-color: #d4ebff;}#sk-container-id-2 div.sk-serial::before {content: \"\";position: absolute;border-left: 1px solid gray;box-sizing: border-box;top: 0;bottom: 0;left: 50%;z-index: 0;}#sk-container-id-2 div.sk-serial {display: flex;flex-direction: column;align-items: center;background-color: white;padding-right: 0.2em;padding-left: 0.2em;position: relative;}#sk-container-id-2 div.sk-item {position: relative;z-index: 1;}#sk-container-id-2 div.sk-parallel {display: flex;align-items: stretch;justify-content: center;background-color: white;position: relative;}#sk-container-id-2 div.sk-item::before, #sk-container-id-2 div.sk-parallel-item::before {content: \"\";position: absolute;border-left: 1px solid gray;box-sizing: border-box;top: 0;bottom: 0;left: 50%;z-index: -1;}#sk-container-id-2 div.sk-parallel-item {display: flex;flex-direction: column;z-index: 1;position: relative;background-color: white;}#sk-container-id-2 div.sk-parallel-item:first-child::after {align-self: flex-end;width: 50%;}#sk-container-id-2 div.sk-parallel-item:last-child::after {align-self: flex-start;width: 50%;}#sk-container-id-2 div.sk-parallel-item:only-child::after {width: 0;}#sk-container-id-2 div.sk-dashed-wrapped {border: 1px dashed gray;margin: 0 0.4em 0.5em 0.4em;box-sizing: border-box;padding-bottom: 0.4em;background-color: white;}#sk-container-id-2 div.sk-label label {font-family: monospace;font-weight: bold;display: inline-block;line-height: 1.2em;}#sk-container-id-2 div.sk-label-container {text-align: center;}#sk-container-id-2 div.sk-container {/* jupyter's `normalize.less` sets `[hidden] { display: none; }` but bootstrap.min.css set `[hidden] { display: none !important; }` so we also need the `!important` here to be able to override the default hidden behavior on the sphinx rendered scikit-learn.org. See: https://github.com/scikit-learn/scikit-learn/issues/21755 */display: inline-block !important;position: relative;}#sk-container-id-2 div.sk-text-repr-fallback {display: none;}</style><div id=\"sk-container-id-2\" class=\"sk-top-container\"><div class=\"sk-text-repr-fallback\"><pre>LGBMRegressor(learning_rate=0.018052307589575444, max_depth=9, n_estimators=700,\n",
       "              num_leaves=442, objective=&#x27;mae&#x27;, random_state=42,\n",
       "              reg_alpha=0.02216069565875271, reg_lambda=0.01223572246957101)</pre><b>In a Jupyter environment, please rerun this cell to show the HTML representation or trust the notebook. <br />On GitHub, the HTML representation is unable to render, please try loading this page with nbviewer.org.</b></div><div class=\"sk-container\" hidden><div class=\"sk-item\"><div class=\"sk-estimator sk-toggleable\"><input class=\"sk-toggleable__control sk-hidden--visually\" id=\"sk-estimator-id-2\" type=\"checkbox\" checked><label for=\"sk-estimator-id-2\" class=\"sk-toggleable__label sk-toggleable__label-arrow\">LGBMRegressor</label><div class=\"sk-toggleable__content\"><pre>LGBMRegressor(learning_rate=0.018052307589575444, max_depth=9, n_estimators=700,\n",
       "              num_leaves=442, objective=&#x27;mae&#x27;, random_state=42,\n",
       "              reg_alpha=0.02216069565875271, reg_lambda=0.01223572246957101)</pre></div></div></div></div></div>"
      ],
      "text/plain": [
       "LGBMRegressor(learning_rate=0.018052307589575444, max_depth=9, n_estimators=700,\n",
       "              num_leaves=442, objective='mae', random_state=42,\n",
       "              reg_alpha=0.02216069565875271, reg_lambda=0.01223572246957101)"
      ]
     },
     "execution_count": 10,
     "metadata": {},
     "output_type": "execute_result"
    }
   ],
   "source": [
    "m"
   ]
  },
  {
   "cell_type": "markdown",
   "id": "7be6b6bb",
   "metadata": {
    "papermill": {
     "duration": 0.006105,
     "end_time": "2023-10-12T05:25:17.280695",
     "exception": false,
     "start_time": "2023-10-12T05:25:17.274590",
     "status": "completed"
    },
    "tags": []
   },
   "source": [
    "## Section 3b: Test Model"
   ]
  },
  {
   "cell_type": "code",
   "execution_count": 11,
   "id": "6b1f9576",
   "metadata": {
    "execution": {
     "iopub.execute_input": "2023-10-12T05:25:17.294212Z",
     "iopub.status.busy": "2023-10-12T05:25:17.293866Z",
     "iopub.status.idle": "2023-10-12T05:25:17.403333Z",
     "shell.execute_reply": "2023-10-12T05:25:17.402238Z"
    },
    "papermill": {
     "duration": 0.118728,
     "end_time": "2023-10-12T05:25:17.405269",
     "exception": false,
     "start_time": "2023-10-12T05:25:17.286541",
     "status": "completed"
    },
    "tags": []
   },
   "outputs": [],
   "source": [
    "test = feat_eng(test)\n",
    "# test['pca_prices'] = pca_prices.transform(test[prices].fillna(1))"
   ]
  },
  {
   "cell_type": "code",
   "execution_count": 12,
   "id": "75f4616b",
   "metadata": {
    "execution": {
     "iopub.execute_input": "2023-10-12T05:25:17.418880Z",
     "iopub.status.busy": "2023-10-12T05:25:17.418534Z",
     "iopub.status.idle": "2023-10-12T05:25:17.425637Z",
     "shell.execute_reply": "2023-10-12T05:25:17.424499Z"
    },
    "papermill": {
     "duration": 0.01625,
     "end_time": "2023-10-12T05:25:17.427550",
     "exception": false,
     "start_time": "2023-10-12T05:25:17.411300",
     "status": "completed"
    },
    "tags": []
   },
   "outputs": [
    {
     "data": {
      "text/plain": [
       "(33000, 13)"
      ]
     },
     "execution_count": 12,
     "metadata": {},
     "output_type": "execute_result"
    }
   ],
   "source": [
    "test.shape"
   ]
  },
  {
   "cell_type": "code",
   "execution_count": 13,
   "id": "871bc4a1",
   "metadata": {
    "execution": {
     "iopub.execute_input": "2023-10-12T05:25:17.441775Z",
     "iopub.status.busy": "2023-10-12T05:25:17.441435Z",
     "iopub.status.idle": "2023-10-12T05:25:18.918427Z",
     "shell.execute_reply": "2023-10-12T05:25:18.917196Z"
    },
    "papermill": {
     "duration": 1.486956,
     "end_time": "2023-10-12T05:25:18.920732",
     "exception": false,
     "start_time": "2023-10-12T05:25:17.433776",
     "status": "completed"
    },
    "tags": []
   },
   "outputs": [
    {
     "data": {
      "text/plain": [
       "array([-1.57572974,  1.56921004,  3.73720539, ...,  1.43214855,\n",
       "        1.84654655, -2.46154919])"
      ]
     },
     "execution_count": 13,
     "metadata": {},
     "output_type": "execute_result"
    }
   ],
   "source": [
    "m.predict(test)"
   ]
  },
  {
   "cell_type": "markdown",
   "id": "60ce2eba",
   "metadata": {
    "papermill": {
     "duration": 0.005705,
     "end_time": "2023-10-12T05:25:18.932688",
     "exception": false,
     "start_time": "2023-10-12T05:25:18.926983",
     "status": "completed"
    },
    "tags": []
   },
   "source": [
    "# Section 4: Inference Model"
   ]
  },
  {
   "cell_type": "markdown",
   "id": "fcbf5d86",
   "metadata": {
    "papermill": {
     "duration": 0.005736,
     "end_time": "2023-10-12T05:25:18.944423",
     "exception": false,
     "start_time": "2023-10-12T05:25:18.938687",
     "status": "completed"
    },
    "tags": []
   },
   "source": [
    "## Section 4a: Helper Function"
   ]
  },
  {
   "cell_type": "code",
   "execution_count": 14,
   "id": "cfc15510",
   "metadata": {
    "execution": {
     "iopub.execute_input": "2023-10-12T05:25:18.958233Z",
     "iopub.status.busy": "2023-10-12T05:25:18.957847Z",
     "iopub.status.idle": "2023-10-12T05:25:18.962609Z",
     "shell.execute_reply": "2023-10-12T05:25:18.961570Z"
    },
    "papermill": {
     "duration": 0.014173,
     "end_time": "2023-10-12T05:25:18.964687",
     "exception": false,
     "start_time": "2023-10-12T05:25:18.950514",
     "status": "completed"
    },
    "tags": []
   },
   "outputs": [],
   "source": [
    "def zero_sum(prices, volumes): \n",
    "#    I got this idea from https://github.com/gotoConversion/goto_conversion/\n",
    "    std_error = np.sqrt(volumes)\n",
    "    step = np.sum(prices)/np.sum(std_error)\n",
    "    out = prices-std_error*step\n",
    "    \n",
    "    return out"
   ]
  },
  {
   "cell_type": "code",
   "execution_count": 15,
   "id": "400103a9",
   "metadata": {
    "execution": {
     "iopub.execute_input": "2023-10-12T05:25:18.978511Z",
     "iopub.status.busy": "2023-10-12T05:25:18.978179Z",
     "iopub.status.idle": "2023-10-12T05:25:19.003796Z",
     "shell.execute_reply": "2023-10-12T05:25:19.002768Z"
    },
    "papermill": {
     "duration": 0.035427,
     "end_time": "2023-10-12T05:25:19.006189",
     "exception": false,
     "start_time": "2023-10-12T05:25:18.970762",
     "status": "completed"
    },
    "tags": []
   },
   "outputs": [],
   "source": [
    "import optiver2023\n",
    "env = optiver2023.make_env()\n",
    "iter_test = env.iter_test()"
   ]
  },
  {
   "cell_type": "code",
   "execution_count": 16,
   "id": "d3c6773c",
   "metadata": {
    "execution": {
     "iopub.execute_input": "2023-10-12T05:25:19.020167Z",
     "iopub.status.busy": "2023-10-12T05:25:19.019807Z",
     "iopub.status.idle": "2023-10-12T05:25:38.082203Z",
     "shell.execute_reply": "2023-10-12T05:25:38.081132Z"
    },
    "papermill": {
     "duration": 19.072223,
     "end_time": "2023-10-12T05:25:38.084679",
     "exception": false,
     "start_time": "2023-10-12T05:25:19.012456",
     "status": "completed"
    },
    "tags": []
   },
   "outputs": [
    {
     "name": "stdout",
     "output_type": "stream",
     "text": [
      "This version of the API is not optimized and should not be used to estimate the runtime of your code on the hidden test set.\n"
     ]
    }
   ],
   "source": [
    "counter = 0 # not sure why its needed but i'll keep it now: Falcon\n",
    "for (test, revealed_targets, sample_prediction) in iter_test:\n",
    "    feat = feat_eng(test)\n",
    "#     feat['pca_prices'] = pca_prices.transform(feat[prices].fillna(1))\n",
    "    sample_prediction['target'] = m.predict(feat)\n",
    "    sample_prediction['target'] = zero_sum(sample_prediction['target'], test.loc[:,'bid_size'] + test.loc[:,'ask_size'])\n",
    "    env.predict(sample_prediction)\n",
    "    counter += 1 "
   ]
  }
 ],
 "metadata": {
  "kernelspec": {
   "display_name": "Python 3",
   "language": "python",
   "name": "python3"
  },
  "language_info": {
   "codemirror_mode": {
    "name": "ipython",
    "version": 3
   },
   "file_extension": ".py",
   "mimetype": "text/x-python",
   "name": "python",
   "nbconvert_exporter": "python",
   "pygments_lexer": "ipython3",
   "version": "3.10.12"
  },
  "papermill": {
   "default_parameters": {},
   "duration": 341.646983,
   "end_time": "2023-10-12T05:25:39.114141",
   "environment_variables": {},
   "exception": null,
   "input_path": "__notebook__.ipynb",
   "output_path": "__notebook__.ipynb",
   "parameters": {},
   "start_time": "2023-10-12T05:19:57.467158",
   "version": "2.4.0"
  }
 },
 "nbformat": 4,
 "nbformat_minor": 5
}
